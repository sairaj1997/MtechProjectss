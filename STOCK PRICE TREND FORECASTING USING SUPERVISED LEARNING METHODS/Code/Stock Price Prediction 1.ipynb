{
 "cells": [
  {
   "cell_type": "code",
   "execution_count": 1,
   "metadata": {},
   "outputs": [],
   "source": [
    "import numpy as np\n",
    "import pandas as pd"
   ]
  },
  {
   "cell_type": "code",
   "execution_count": 2,
   "metadata": {},
   "outputs": [],
   "source": [
    "import matplotlib.pyplot as plt\n",
    "import seaborn as sns"
   ]
  },
  {
   "cell_type": "code",
   "execution_count": 3,
   "metadata": {},
   "outputs": [],
   "source": [
    "df=pd.read_csv('NSE-TATAGLOBAL.csv')"
   ]
  },
  {
   "cell_type": "code",
   "execution_count": 4,
   "metadata": {},
   "outputs": [
    {
     "data": {
      "text/plain": [
       "['/Users/sairajpotluri/ SaiRaj/TK11572/STOCK PRICE TREND FORECASTING USING SUPERVISED LEARNING METHODS/Code',\n",
       " '/opt/anaconda3/lib/python38.zip',\n",
       " '/opt/anaconda3/lib/python3.8',\n",
       " '/opt/anaconda3/lib/python3.8/lib-dynload',\n",
       " '',\n",
       " '/opt/anaconda3/lib/python3.8/site-packages',\n",
       " '/opt/anaconda3/lib/python3.8/site-packages/aeosa',\n",
       " '/opt/anaconda3/lib/python3.8/site-packages/IPython/extensions',\n",
       " '/Users/sairajpotluri/.ipython']"
      ]
     },
     "execution_count": 4,
     "metadata": {},
     "output_type": "execute_result"
    }
   ],
   "source": [
    "import sys\n",
    "sys.path"
   ]
  },
  {
   "cell_type": "code",
   "execution_count": 5,
   "metadata": {},
   "outputs": [
    {
     "data": {
      "text/html": [
       "<div>\n",
       "<style scoped>\n",
       "    .dataframe tbody tr th:only-of-type {\n",
       "        vertical-align: middle;\n",
       "    }\n",
       "\n",
       "    .dataframe tbody tr th {\n",
       "        vertical-align: top;\n",
       "    }\n",
       "\n",
       "    .dataframe thead th {\n",
       "        text-align: right;\n",
       "    }\n",
       "</style>\n",
       "<table border=\"1\" class=\"dataframe\">\n",
       "  <thead>\n",
       "    <tr style=\"text-align: right;\">\n",
       "      <th></th>\n",
       "      <th>Open</th>\n",
       "      <th>High</th>\n",
       "      <th>Low</th>\n",
       "      <th>Last</th>\n",
       "      <th>Close</th>\n",
       "      <th>TTQ</th>\n",
       "      <th>Turnover</th>\n",
       "    </tr>\n",
       "  </thead>\n",
       "  <tbody>\n",
       "    <tr>\n",
       "      <th>0</th>\n",
       "      <td>208.00</td>\n",
       "      <td>222.25</td>\n",
       "      <td>206.85</td>\n",
       "      <td>216.00</td>\n",
       "      <td>215.15</td>\n",
       "      <td>4642146</td>\n",
       "      <td>10062.83</td>\n",
       "    </tr>\n",
       "    <tr>\n",
       "      <th>1</th>\n",
       "      <td>217.00</td>\n",
       "      <td>218.60</td>\n",
       "      <td>205.90</td>\n",
       "      <td>210.25</td>\n",
       "      <td>209.20</td>\n",
       "      <td>3519515</td>\n",
       "      <td>7407.06</td>\n",
       "    </tr>\n",
       "    <tr>\n",
       "      <th>2</th>\n",
       "      <td>223.50</td>\n",
       "      <td>227.80</td>\n",
       "      <td>216.15</td>\n",
       "      <td>217.25</td>\n",
       "      <td>218.20</td>\n",
       "      <td>1728786</td>\n",
       "      <td>3815.79</td>\n",
       "    </tr>\n",
       "    <tr>\n",
       "      <th>3</th>\n",
       "      <td>230.00</td>\n",
       "      <td>237.50</td>\n",
       "      <td>225.75</td>\n",
       "      <td>226.45</td>\n",
       "      <td>227.60</td>\n",
       "      <td>1708590</td>\n",
       "      <td>3960.27</td>\n",
       "    </tr>\n",
       "    <tr>\n",
       "      <th>4</th>\n",
       "      <td>234.55</td>\n",
       "      <td>234.60</td>\n",
       "      <td>221.05</td>\n",
       "      <td>230.30</td>\n",
       "      <td>230.90</td>\n",
       "      <td>1534749</td>\n",
       "      <td>3486.05</td>\n",
       "    </tr>\n",
       "  </tbody>\n",
       "</table>\n",
       "</div>"
      ],
      "text/plain": [
       "     Open    High     Low    Last   Close      TTQ  Turnover\n",
       "0  208.00  222.25  206.85  216.00  215.15  4642146  10062.83\n",
       "1  217.00  218.60  205.90  210.25  209.20  3519515   7407.06\n",
       "2  223.50  227.80  216.15  217.25  218.20  1728786   3815.79\n",
       "3  230.00  237.50  225.75  226.45  227.60  1708590   3960.27\n",
       "4  234.55  234.60  221.05  230.30  230.90  1534749   3486.05"
      ]
     },
     "execution_count": 5,
     "metadata": {},
     "output_type": "execute_result"
    }
   ],
   "source": [
    "df.head()"
   ]
  },
  {
   "cell_type": "code",
   "execution_count": 6,
   "metadata": {},
   "outputs": [
    {
     "data": {
      "text/plain": [
       "1235"
      ]
     },
     "execution_count": 6,
     "metadata": {},
     "output_type": "execute_result"
    }
   ],
   "source": [
    "len(df)"
   ]
  },
  {
   "cell_type": "code",
   "execution_count": 7,
   "metadata": {},
   "outputs": [
    {
     "data": {
      "text/plain": [
       "(1235, 7)"
      ]
     },
     "execution_count": 7,
     "metadata": {},
     "output_type": "execute_result"
    }
   ],
   "source": [
    "df.shape"
   ]
  },
  {
   "cell_type": "code",
   "execution_count": 8,
   "metadata": {},
   "outputs": [
    {
     "name": "stderr",
     "output_type": "stream",
     "text": [
      "/opt/anaconda3/lib/python3.8/site-packages/seaborn/distributions.py:2551: FutureWarning: `distplot` is a deprecated function and will be removed in a future version. Please adapt your code to use either `displot` (a figure-level function with similar flexibility) or `histplot` (an axes-level function for histograms).\n",
      "  warnings.warn(msg, FutureWarning)\n"
     ]
    },
    {
     "data": {
      "text/plain": [
       "<AxesSubplot:xlabel='Close', ylabel='Density'>"
      ]
     },
     "execution_count": 8,
     "metadata": {},
     "output_type": "execute_result"
    },
    {
     "data": {
      "image/png": "[encoded data removed]",
      "text/plain": [
       "<Figure size 432x288 with 1 Axes>"
      ]
     },
     "metadata": {
      "needs_background": "light"
     },
     "output_type": "display_data"
    }
   ],
   "source": [
    "sns.distplot(df.Close)"
   ]
  },
  {
   "cell_type": "code",
   "execution_count": 9,
   "metadata": {},
   "outputs": [
    {
     "data": {
      "text/plain": [
       "Text(0, 0.5, 'Close')"
      ]
     },
     "execution_count": 9,
     "metadata": {},
     "output_type": "execute_result"
    },
    {
     "data": {
      "image/png": "[encoded data removed]",
      "text/plain": [
       "<Figure size 864x576 with 1 Axes>"
      ]
     },
     "metadata": {
      "needs_background": "light"
     },
     "output_type": "display_data"
    }
   ],
   "source": [
    "plt.figure(figsize=(12,8))\n",
    "plt.plot(df['Open'],color='darkkhaki')\n",
    "plt.title('Closing Price')\n",
    "plt.xlabel('Days')\n",
    "plt.ylabel('Close')"
   ]
  },
  {
   "cell_type": "code",
   "execution_count": 10,
   "metadata": {},
   "outputs": [
    {
     "data": {
      "text/plain": [
       "Text(0, 0.5, 'Close')"
      ]
     },
     "execution_count": 10,
     "metadata": {},
     "output_type": "execute_result"
    },
    {
     "data": {
      "image/png": "[encoded data removed]",
      "text/plain": [
       "<Figure size 864x576 with 1 Axes>"
      ]
     },
     "metadata": {
      "needs_background": "light"
     },
     "output_type": "display_data"
    }
   ],
   "source": [
    "plt.figure(figsize=(12,8))\n",
    "plt.plot(df['Close'])\n",
    "plt.title('Closing Price')\n",
    "plt.xlabel('Days')\n",
    "plt.ylabel('Close')"
   ]
  },
  {
   "cell_type": "code",
   "execution_count": 11,
   "metadata": {},
   "outputs": [
    {
     "data": {
      "text/plain": [
       "[<matplotlib.lines.Line2D at 0x7fe4ab4da070>]"
      ]
     },
     "execution_count": 11,
     "metadata": {},
     "output_type": "execute_result"
    },
    {
     "data": {
      "image/png": "[encoded data removed]",
      "text/plain": [
       "<Figure size 864x576 with 1 Axes>"
      ]
     },
     "metadata": {
      "needs_background": "light"
     },
     "output_type": "display_data"
    }
   ],
   "source": [
    "plt.figure(figsize=(12,8))\n",
    "plt.plot(df.Close)\n",
    "plt.plot(df.Open)"
   ]
  },
  {
   "cell_type": "code",
   "execution_count": 12,
   "metadata": {},
   "outputs": [
    {
     "name": "stderr",
     "output_type": "stream",
     "text": [
      "/opt/anaconda3/lib/python3.8/site-packages/seaborn/distributions.py:2551: FutureWarning: `distplot` is a deprecated function and will be removed in a future version. Please adapt your code to use either `displot` (a figure-level function with similar flexibility) or `histplot` (an axes-level function for histograms).\n",
      "  warnings.warn(msg, FutureWarning)\n"
     ]
    },
    {
     "data": {
      "text/plain": [
       "<AxesSubplot:xlabel='Close', ylabel='Density'>"
      ]
     },
     "execution_count": 12,
     "metadata": {},
     "output_type": "execute_result"
    },
    {
     "data": {
      "image/png": "[encoded data removed]",
      "text/plain": [
       "<Figure size 432x288 with 1 Axes>"
      ]
     },
     "metadata": {
      "needs_background": "light"
     },
     "output_type": "display_data"
    }
   ],
   "source": [
    "sns.distplot(df.Close)"
   ]
  },
  {
   "cell_type": "code",
   "execution_count": 13,
   "metadata": {},
   "outputs": [
    {
     "name": "stderr",
     "output_type": "stream",
     "text": [
      "/opt/anaconda3/lib/python3.8/site-packages/seaborn/_decorators.py:36: FutureWarning: Pass the following variables as keyword args: x, y. From version 0.12, the only valid positional argument will be `data`, and passing other arguments without an explicit keyword will result in an error or misinterpretation.\n",
      "  warnings.warn(\n"
     ]
    },
    {
     "data": {
      "text/plain": [
       "<AxesSubplot:xlabel='Close', ylabel='Open'>"
      ]
     },
     "execution_count": 13,
     "metadata": {},
     "output_type": "execute_result"
    },
    {
     "data": {
      "image/png": "[encoded data removed]",
      "text/plain": [
       "<Figure size 432x288 with 1 Axes>"
      ]
     },
     "metadata": {
      "needs_background": "light"
     },
     "output_type": "display_data"
    }
   ],
   "source": [
    "sns.boxplot(df.Close,df.Open)"
   ]
  },
  {
   "cell_type": "code",
   "execution_count": 14,
   "metadata": {},
   "outputs": [
    {
     "name": "stderr",
     "output_type": "stream",
     "text": [
      "/opt/anaconda3/lib/python3.8/site-packages/seaborn/_decorators.py:36: FutureWarning: Pass the following variable as a keyword arg: x. From version 0.12, the only valid positional argument will be `data`, and passing other arguments without an explicit keyword will result in an error or misinterpretation.\n",
      "  warnings.warn(\n"
     ]
    },
    {
     "data": {
      "text/plain": [
       "<AxesSubplot:xlabel='Close'>"
      ]
     },
     "execution_count": 14,
     "metadata": {},
     "output_type": "execute_result"
    },
    {
     "data": {
      "image/png": "[encoded data removed]",
      "text/plain": [
       "<Figure size 432x288 with 1 Axes>"
      ]
     },
     "metadata": {
      "needs_background": "light"
     },
     "output_type": "display_data"
    }
   ],
   "source": [
    "sns.violinplot(df.Close)"
   ]
  },
  {
   "cell_type": "code",
   "execution_count": 15,
   "metadata": {},
   "outputs": [
    {
     "data": {
      "text/plain": [
       "1235"
      ]
     },
     "execution_count": 15,
     "metadata": {},
     "output_type": "execute_result"
    }
   ],
   "source": [
    "len(df)"
   ]
  },
  {
   "cell_type": "code",
   "execution_count": 16,
   "metadata": {},
   "outputs": [],
   "source": [
    "df1=df.head(10)"
   ]
  },
  {
   "cell_type": "code",
   "execution_count": 17,
   "metadata": {},
   "outputs": [
    {
     "data": {
      "text/plain": [
       "<seaborn.axisgrid.PairGrid at 0x7fe492faa160>"
      ]
     },
     "execution_count": 17,
     "metadata": {},
     "output_type": "execute_result"
    },
    {
     "data": {
      "text/plain": [
       "<Figure size 1008x576 with 0 Axes>"
      ]
     },
     "metadata": {},
     "output_type": "display_data"
    },
    {
     "data": {
      "image/png": "[encoded data removed]",
      "text/plain": [
       "<Figure size 1260x1260 with 56 Axes>"
      ]
     },
     "metadata": {
      "needs_background": "light"
     },
     "output_type": "display_data"
    }
   ],
   "source": [
    "plt.figure(figsize=(14,8))\n",
    "sns.pairplot(df1)"
   ]
  },
  {
   "cell_type": "code",
   "execution_count": 18,
   "metadata": {},
   "outputs": [
    {
     "data": {
      "text/plain": [
       "<AxesSubplot:xlabel='Close', ylabel='Open'>"
      ]
     },
     "execution_count": 18,
     "metadata": {},
     "output_type": "execute_result"
    },
    {
     "data": {
      "image/png": "[encoded data removed]",
      "text/plain": [
       "<Figure size 432x288 with 1 Axes>"
      ]
     },
     "metadata": {
      "needs_background": "light"
     },
     "output_type": "display_data"
    }
   ],
   "source": [
    "sns.barplot(x='Close',y='Open',data=df)"
   ]
  },
  {
   "cell_type": "code",
   "execution_count": 19,
   "metadata": {},
   "outputs": [
    {
     "data": {
      "text/plain": [
       "<AxesSubplot:xlabel='Open', ylabel='Close'>"
      ]
     },
     "execution_count": 19,
     "metadata": {},
     "output_type": "execute_result"
    },
    {
     "data": {
      "image/png": "[encoded data removed]",
      "text/plain": [
       "<Figure size 432x288 with 1 Axes>"
      ]
     },
     "metadata": {
      "needs_background": "light"
     },
     "output_type": "display_data"
    }
   ],
   "source": [
    "sns.stripplot(x='Open',y='Close',data=df)"
   ]
  },
  {
   "cell_type": "code",
   "execution_count": 20,
   "metadata": {},
   "outputs": [
    {
     "name": "stderr",
     "output_type": "stream",
     "text": [
      "/opt/anaconda3/lib/python3.8/site-packages/seaborn/categorical.py:1296: UserWarning: 50.0% of the points cannot be placed; you may want to decrease the size of the markers or use stripplot.\n",
      "  warnings.warn(msg, UserWarning)\n",
      "/opt/anaconda3/lib/python3.8/site-packages/seaborn/categorical.py:1296: UserWarning: 66.7% of the points cannot be placed; you may want to decrease the size of the markers or use stripplot.\n",
      "  warnings.warn(msg, UserWarning)\n",
      "/opt/anaconda3/lib/python3.8/site-packages/seaborn/categorical.py:1296: UserWarning: 75.0% of the points cannot be placed; you may want to decrease the size of the markers or use stripplot.\n",
      "  warnings.warn(msg, UserWarning)\n",
      "/opt/anaconda3/lib/python3.8/site-packages/seaborn/categorical.py:1296: UserWarning: 80.0% of the points cannot be placed; you may want to decrease the size of the markers or use stripplot.\n",
      "  warnings.warn(msg, UserWarning)\n",
      "/opt/anaconda3/lib/python3.8/site-packages/seaborn/categorical.py:1296: UserWarning: 33.3% of the points cannot be placed; you may want to decrease the size of the markers or use stripplot.\n",
      "  warnings.warn(msg, UserWarning)\n",
      "/opt/anaconda3/lib/python3.8/site-packages/seaborn/categorical.py:1296: UserWarning: 60.0% of the points cannot be placed; you may want to decrease the size of the markers or use stripplot.\n",
      "  warnings.warn(msg, UserWarning)\n",
      "/opt/anaconda3/lib/python3.8/site-packages/seaborn/categorical.py:1296: UserWarning: 83.3% of the points cannot be placed; you may want to decrease the size of the markers or use stripplot.\n",
      "  warnings.warn(msg, UserWarning)\n",
      "/opt/anaconda3/lib/python3.8/site-packages/seaborn/categorical.py:1296: UserWarning: 71.4% of the points cannot be placed; you may want to decrease the size of the markers or use stripplot.\n",
      "  warnings.warn(msg, UserWarning)\n"
     ]
    },
    {
     "data": {
      "text/plain": [
       "<AxesSubplot:xlabel='Open', ylabel='Close'>"
      ]
     },
     "execution_count": 20,
     "metadata": {},
     "output_type": "execute_result"
    },
    {
     "data": {
      "image/png": "[encoded data removed]",
      "text/plain": [
       "<Figure size 432x288 with 1 Axes>"
      ]
     },
     "metadata": {
      "needs_background": "light"
     },
     "output_type": "display_data"
    }
   ],
   "source": [
    "sns.swarmplot(x='Open',y='Close',data=df)"
   ]
  },
  {
   "cell_type": "code",
   "execution_count": 21,
   "metadata": {},
   "outputs": [
    {
     "data": {
      "text/plain": [
       "Index(['Open', 'High', 'Low', 'Last', 'Close', 'TTQ', 'Turnover'], dtype='object')"
      ]
     },
     "execution_count": 21,
     "metadata": {},
     "output_type": "execute_result"
    }
   ],
   "source": [
    "df.columns"
   ]
  },
  {
   "cell_type": "code",
   "execution_count": 22,
   "metadata": {},
   "outputs": [],
   "source": [
    "X=df[['Open', 'High', 'Low', 'Last','TTQ', 'Turnover']]\n",
    "y=df[['Close']]"
   ]
  },
  {
   "cell_type": "code",
   "execution_count": 23,
   "metadata": {},
   "outputs": [],
   "source": [
    "from sklearn.model_selection import train_test_split"
   ]
  },
  {
   "cell_type": "code",
   "execution_count": 24,
   "metadata": {},
   "outputs": [],
   "source": [
    " X_train, X_test, y_train, y_test = train_test_split(X, y, test_size=0.33, random_state=42)"
   ]
  },
  {
   "cell_type": "code",
   "execution_count": 25,
   "metadata": {},
   "outputs": [],
   "source": [
    "from sklearn.ensemble import RandomForestRegressor"
   ]
  },
  {
   "cell_type": "code",
   "execution_count": 26,
   "metadata": {},
   "outputs": [],
   "source": [
    "model=RandomForestRegressor(n_estimators=1,n_jobs=2,max_depth=1)"
   ]
  },
  {
   "cell_type": "code",
   "execution_count": 27,
   "metadata": {},
   "outputs": [
    {
     "name": "stderr",
     "output_type": "stream",
     "text": [
      "<ipython-input-27-b7a8c64777c1>:1: DataConversionWarning: A column-vector y was passed when a 1d array was expected. Please change the shape of y to (n_samples,), for example using ravel().\n",
      "  model.fit(X_train,y_train)\n"
     ]
    },
    {
     "data": {
      "text/plain": [
       "RandomForestRegressor(max_depth=1, n_estimators=1, n_jobs=2)"
      ]
     },
     "execution_count": 27,
     "metadata": {},
     "output_type": "execute_result"
    }
   ],
   "source": [
    "model.fit(X_train,y_train)"
   ]
  },
  {
   "cell_type": "code",
   "execution_count": 28,
   "metadata": {},
   "outputs": [],
   "source": [
    "pred=model.predict(X_test)"
   ]
  },
  {
   "cell_type": "code",
   "execution_count": 29,
   "metadata": {},
   "outputs": [],
   "source": [
    "from sklearn.metrics import r2_score,mean_squared_error"
   ]
  },
  {
   "cell_type": "code",
   "execution_count": 30,
   "metadata": {},
   "outputs": [
    {
     "name": "stdout",
     "output_type": "stream",
     "text": [
      "0.8208340863471308\n",
      "19.80950684585342\n"
     ]
    }
   ],
   "source": [
    "r2_1=r2_score(pred,y_test)\n",
    "print(r2_1)\n",
    "a=mean_squared_error(pred,y_test)\n",
    "rmse_1=np.sqrt(a)\n",
    "print(rmse_1)\n"
   ]
  },
  {
   "cell_type": "code",
   "execution_count": 31,
   "metadata": {},
   "outputs": [],
   "source": [
    "from sklearn.ensemble import BaggingRegressor"
   ]
  },
  {
   "cell_type": "code",
   "execution_count": 32,
   "metadata": {},
   "outputs": [],
   "source": [
    "model = BaggingRegressor(n_estimators=50,max_features=3,n_jobs=-1,warm_start=True,verbose=False,max_samples=10)"
   ]
  },
  {
   "cell_type": "code",
   "execution_count": 33,
   "metadata": {},
   "outputs": [
    {
     "name": "stderr",
     "output_type": "stream",
     "text": [
      "/opt/anaconda3/lib/python3.8/site-packages/sklearn/utils/validation.py:63: DataConversionWarning: A column-vector y was passed when a 1d array was expected. Please change the shape of y to (n_samples, ), for example using ravel().\n",
      "  return f(*args, **kwargs)\n"
     ]
    },
    {
     "data": {
      "text/plain": [
       "BaggingRegressor(max_features=3, max_samples=10, n_estimators=50, n_jobs=-1,\n",
       "                 verbose=False, warm_start=True)"
      ]
     },
     "execution_count": 33,
     "metadata": {},
     "output_type": "execute_result"
    }
   ],
   "source": [
    "model.fit(X_train,y_train)"
   ]
  },
  {
   "cell_type": "code",
   "execution_count": 34,
   "metadata": {},
   "outputs": [],
   "source": [
    "pred=model.predict(X_test)"
   ]
  },
  {
   "cell_type": "code",
   "execution_count": 35,
   "metadata": {},
   "outputs": [
    {
     "name": "stdout",
     "output_type": "stream",
     "text": [
      "0.9540377756734637\n",
      "9.491961390912243\n"
     ]
    }
   ],
   "source": [
    "r2_2=r2_score(pred,y_test)\n",
    "print(r2_2)\n",
    "a=mean_squared_error(pred,y_test)\n",
    "rmse_2=np.sqrt(a)\n",
    "print(rmse_2)\n"
   ]
  },
  {
   "cell_type": "code",
   "execution_count": 36,
   "metadata": {},
   "outputs": [],
   "source": [
    "from sklearn.ensemble import AdaBoostRegressor"
   ]
  },
  {
   "cell_type": "code",
   "execution_count": 37,
   "metadata": {},
   "outputs": [],
   "source": [
    "model=AdaBoostRegressor(n_estimators=5,loss='exponential',random_state=54,learning_rate=10)"
   ]
  },
  {
   "cell_type": "code",
   "execution_count": 38,
   "metadata": {},
   "outputs": [
    {
     "name": "stderr",
     "output_type": "stream",
     "text": [
      "/opt/anaconda3/lib/python3.8/site-packages/sklearn/utils/validation.py:63: DataConversionWarning: A column-vector y was passed when a 1d array was expected. Please change the shape of y to (n_samples, ), for example using ravel().\n",
      "  return f(*args, **kwargs)\n"
     ]
    },
    {
     "data": {
      "text/plain": [
       "AdaBoostRegressor(learning_rate=10, loss='exponential', n_estimators=5,\n",
       "                  random_state=54)"
      ]
     },
     "execution_count": 38,
     "metadata": {},
     "output_type": "execute_result"
    }
   ],
   "source": [
    "model.fit(X_train,y_train)"
   ]
  },
  {
   "cell_type": "code",
   "execution_count": 39,
   "metadata": {},
   "outputs": [],
   "source": [
    "pred=model.predict(X_test)"
   ]
  },
  {
   "cell_type": "code",
   "execution_count": 40,
   "metadata": {},
   "outputs": [
    {
     "name": "stdout",
     "output_type": "stream",
     "text": [
      "0.3354202549905101\n",
      "32.35413556473195\n"
     ]
    }
   ],
   "source": [
    "r2_3=r2_score(pred,y_test)\n",
    "print(r2_3)\n",
    "a=mean_squared_error(pred,y_test)\n",
    "rmse_3=np.sqrt(a)\n",
    "print(rmse_3)\n"
   ]
  },
  {
   "cell_type": "code",
   "execution_count": 41,
   "metadata": {},
   "outputs": [],
   "source": [
    "from sklearn.neighbors import KNeighborsRegressor"
   ]
  },
  {
   "cell_type": "code",
   "execution_count": 42,
   "metadata": {},
   "outputs": [],
   "source": [
    "model=KNeighborsRegressor(n_neighbors=18)"
   ]
  },
  {
   "cell_type": "code",
   "execution_count": 43,
   "metadata": {},
   "outputs": [
    {
     "data": {
      "text/plain": [
       "KNeighborsRegressor(n_neighbors=18)"
      ]
     },
     "execution_count": 43,
     "metadata": {},
     "output_type": "execute_result"
    }
   ],
   "source": [
    "model.fit(X_train,y_train)"
   ]
  },
  {
   "cell_type": "code",
   "execution_count": 44,
   "metadata": {},
   "outputs": [],
   "source": [
    "pred=model.predict(X_test)"
   ]
  },
  {
   "cell_type": "code",
   "execution_count": 45,
   "metadata": {},
   "outputs": [
    {
     "name": "stdout",
     "output_type": "stream",
     "text": [
      "-1.7217788969470438\n",
      "45.79004231509144\n"
     ]
    }
   ],
   "source": [
    "r2_4=r2_score(pred,y_test)\n",
    "print(r2_4)\n",
    "a=mean_squared_error(pred,y_test)\n",
    "rmse_4=np.sqrt(a)\n",
    "print(rmse_4)\n"
   ]
  },
  {
   "cell_type": "code",
   "execution_count": 46,
   "metadata": {},
   "outputs": [],
   "source": [
    "from sklearn.ensemble import GradientBoostingRegressor"
   ]
  },
  {
   "cell_type": "code",
   "execution_count": 47,
   "metadata": {},
   "outputs": [],
   "source": [
    "model=GradientBoostingRegressor(n_estimators=8)"
   ]
  },
  {
   "cell_type": "code",
   "execution_count": 48,
   "metadata": {},
   "outputs": [
    {
     "name": "stderr",
     "output_type": "stream",
     "text": [
      "/opt/anaconda3/lib/python3.8/site-packages/sklearn/utils/validation.py:63: DataConversionWarning: A column-vector y was passed when a 1d array was expected. Please change the shape of y to (n_samples, ), for example using ravel().\n",
      "  return f(*args, **kwargs)\n"
     ]
    },
    {
     "data": {
      "text/plain": [
       "GradientBoostingRegressor(n_estimators=8)"
      ]
     },
     "execution_count": 48,
     "metadata": {},
     "output_type": "execute_result"
    }
   ],
   "source": [
    "model.fit(X_train,y_train)"
   ]
  },
  {
   "cell_type": "code",
   "execution_count": 49,
   "metadata": {},
   "outputs": [],
   "source": [
    "pred=model.predict(X_test)"
   ]
  },
  {
   "cell_type": "code",
   "execution_count": 50,
   "metadata": {},
   "outputs": [
    {
     "name": "stdout",
     "output_type": "stream",
     "text": [
      "0.40508964616526444\n",
      "21.967981921697035\n"
     ]
    }
   ],
   "source": [
    "r2_5=r2_score(pred,y_test)\n",
    "print(r2_5)\n",
    "a=mean_squared_error(pred,y_test)\n",
    "rmse_5=np.sqrt(a)\n",
    "print(rmse_5)\n"
   ]
  },
  {
   "cell_type": "code",
   "execution_count": 51,
   "metadata": {},
   "outputs": [],
   "source": [
    "from sklearn.preprocessing import MinMaxScaler\n",
    "scaler=MinMaxScaler()\n",
    "X_train=scaler.fit_transform(X_train)\n",
    "X_test = scaler.fit_transform(X_test)"
   ]
  },
  {
   "cell_type": "code",
   "execution_count": 52,
   "metadata": {},
   "outputs": [],
   "source": [
    "y_train=scaler.fit_transform(y_train)\n",
    "y_test = scaler.fit_transform(y_test)"
   ]
  },
  {
   "cell_type": "code",
   "execution_count": 53,
   "metadata": {},
   "outputs": [],
   "source": [
    "from keras.callbacks import LearningRateScheduler"
   ]
  },
  {
   "cell_type": "code",
   "execution_count": 54,
   "metadata": {},
   "outputs": [],
   "source": [
    "lr_sched = LearningRateScheduler(lambda epoch: 1e-4*(0.75**np.floor(epoch/2)))"
   ]
  },
  {
   "cell_type": "code",
   "execution_count": 55,
   "metadata": {},
   "outputs": [],
   "source": [
    "from tensorflow.keras.models import Sequential\n",
    "from tensorflow.keras.layers import Dense\n",
    "import tensorflow as tf"
   ]
  },
  {
   "cell_type": "code",
   "execution_count": 56,
   "metadata": {},
   "outputs": [],
   "source": [
    "model= Sequential()"
   ]
  },
  {
   "cell_type": "code",
   "execution_count": 57,
   "metadata": {},
   "outputs": [],
   "source": [
    "model.add(Dense(64,activation='relu'))\n",
    "# model.add(Dropout(0.04))\n",
    "model.add(Dense(32,activation='relu'))\n",
    "model.add(Dense(16,activation='sigmoid'))\n",
    "model.add(Dense(32,activation='relu'))\n",
    "model.add(Dense(16,activation='sigmoid'))\n",
    "# model.add(Dense(90,activation='sigmoid'))"
   ]
  },
  {
   "cell_type": "code",
   "execution_count": 58,
   "metadata": {},
   "outputs": [
    {
     "name": "stderr",
     "output_type": "stream",
     "text": [
      "/opt/anaconda3/lib/python3.8/site-packages/tensorflow/python/keras/optimizer_v2/optimizer_v2.py:374: UserWarning: The `lr` argument is deprecated, use `learning_rate` instead.\n",
      "  warnings.warn(\n"
     ]
    }
   ],
   "source": [
    "model.compile(loss='mse',optimizer=tf.keras.optimizers.Adam(lr=0.0001))"
   ]
  },
  {
   "cell_type": "code",
   "execution_count": 59,
   "metadata": {},
   "outputs": [
    {
     "name": "stdout",
     "output_type": "stream",
     "text": [
      "Epoch 1/390\n",
      "26/26 [==============================] - 1s 5ms/step - loss: 0.1033 - val_loss: 0.1003\n",
      "Epoch 2/390\n",
      "26/26 [==============================] - 0s 2ms/step - loss: 0.0991 - val_loss: 0.0964\n",
      "Epoch 3/390\n",
      "26/26 [==============================] - 0s 2ms/step - loss: 0.0953 - val_loss: 0.0929\n",
      "Epoch 4/390\n",
      "26/26 [==============================] - 0s 2ms/step - loss: 0.0919 - val_loss: 0.0896\n",
      "Epoch 5/390\n",
      "26/26 [==============================] - 0s 2ms/step - loss: 0.0886 - val_loss: 0.0866\n",
      "Epoch 6/390\n",
      "26/26 [==============================] - 0s 2ms/step - loss: 0.0856 - val_loss: 0.0837\n",
      "Epoch 7/390\n",
      "26/26 [==============================] - 0s 2ms/step - loss: 0.0828 - val_loss: 0.0810\n",
      "Epoch 8/390\n",
      "26/26 [==============================] - 0s 2ms/step - loss: 0.0801 - val_loss: 0.0784\n",
      "Epoch 9/390\n",
      "26/26 [==============================] - 0s 2ms/step - loss: 0.0774 - val_loss: 0.0759\n",
      "Epoch 10/390\n",
      "26/26 [==============================] - 0s 2ms/step - loss: 0.0749 - val_loss: 0.0735\n",
      "Epoch 11/390\n",
      "26/26 [==============================] - 0s 2ms/step - loss: 0.0725 - val_loss: 0.0712\n",
      "Epoch 12/390\n",
      "26/26 [==============================] - 0s 2ms/step - loss: 0.0702 - val_loss: 0.0690\n",
      "Epoch 13/390\n",
      "26/26 [==============================] - 0s 2ms/step - loss: 0.0680 - val_loss: 0.0668\n",
      "Epoch 14/390\n",
      "26/26 [==============================] - 0s 2ms/step - loss: 0.0658 - val_loss: 0.0647\n",
      "Epoch 15/390\n",
      "26/26 [==============================] - 0s 2ms/step - loss: 0.0637 - val_loss: 0.0627\n",
      "Epoch 16/390\n",
      "26/26 [==============================] - 0s 2ms/step - loss: 0.0616 - val_loss: 0.0606\n",
      "Epoch 17/390\n",
      "26/26 [==============================] - 0s 2ms/step - loss: 0.0594 - val_loss: 0.0581\n",
      "Epoch 18/390\n",
      "26/26 [==============================] - 0s 2ms/step - loss: 0.0565 - val_loss: 0.0552\n",
      "Epoch 19/390\n",
      "26/26 [==============================] - 0s 2ms/step - loss: 0.0537 - val_loss: 0.0525\n",
      "Epoch 20/390\n",
      "26/26 [==============================] - 0s 2ms/step - loss: 0.0510 - val_loss: 0.0499\n",
      "Epoch 21/390\n",
      "26/26 [==============================] - 0s 2ms/step - loss: 0.0483 - val_loss: 0.0473\n",
      "Epoch 22/390\n",
      "26/26 [==============================] - 0s 2ms/step - loss: 0.0457 - val_loss: 0.0446\n",
      "Epoch 23/390\n",
      "26/26 [==============================] - 0s 2ms/step - loss: 0.0429 - val_loss: 0.0418\n",
      "Epoch 24/390\n",
      "26/26 [==============================] - 0s 2ms/step - loss: 0.0402 - val_loss: 0.0391\n",
      "Epoch 25/390\n",
      "26/26 [==============================] - 0s 2ms/step - loss: 0.0375 - val_loss: 0.0365\n",
      "Epoch 26/390\n",
      "26/26 [==============================] - 0s 2ms/step - loss: 0.0349 - val_loss: 0.0340\n",
      "Epoch 27/390\n",
      "26/26 [==============================] - 0s 2ms/step - loss: 0.0324 - val_loss: 0.0317\n",
      "Epoch 28/390\n",
      "26/26 [==============================] - 0s 2ms/step - loss: 0.0301 - val_loss: 0.0294\n",
      "Epoch 29/390\n",
      "26/26 [==============================] - 0s 2ms/step - loss: 0.0280 - val_loss: 0.0274\n",
      "Epoch 30/390\n",
      "26/26 [==============================] - 0s 2ms/step - loss: 0.0260 - val_loss: 0.0255\n",
      "Epoch 31/390\n",
      "26/26 [==============================] - 0s 2ms/step - loss: 0.0242 - val_loss: 0.0238\n",
      "Epoch 32/390\n",
      "26/26 [==============================] - 0s 2ms/step - loss: 0.0225 - val_loss: 0.0222\n",
      "Epoch 33/390\n",
      "26/26 [==============================] - 0s 2ms/step - loss: 0.0211 - val_loss: 0.0208\n",
      "Epoch 34/390\n",
      "26/26 [==============================] - 0s 2ms/step - loss: 0.0197 - val_loss: 0.0196\n",
      "Epoch 35/390\n",
      "26/26 [==============================] - 0s 2ms/step - loss: 0.0185 - val_loss: 0.0185\n",
      "Epoch 36/390\n",
      "26/26 [==============================] - 0s 2ms/step - loss: 0.0174 - val_loss: 0.0174\n",
      "Epoch 37/390\n",
      "26/26 [==============================] - 0s 2ms/step - loss: 0.0164 - val_loss: 0.0165\n",
      "Epoch 38/390\n",
      "26/26 [==============================] - 0s 2ms/step - loss: 0.0155 - val_loss: 0.0155\n",
      "Epoch 39/390\n",
      "26/26 [==============================] - 0s 2ms/step - loss: 0.0146 - val_loss: 0.0147\n",
      "Epoch 40/390\n",
      "26/26 [==============================] - 0s 2ms/step - loss: 0.0138 - val_loss: 0.0140\n",
      "Epoch 41/390\n",
      "26/26 [==============================] - 0s 2ms/step - loss: 0.0131 - val_loss: 0.0132\n",
      "Epoch 42/390\n",
      "26/26 [==============================] - 0s 2ms/step - loss: 0.0124 - val_loss: 0.0125\n",
      "Epoch 43/390\n",
      "26/26 [==============================] - 0s 2ms/step - loss: 0.0117 - val_loss: 0.0119\n",
      "Epoch 44/390\n",
      "26/26 [==============================] - 0s 2ms/step - loss: 0.0111 - val_loss: 0.0113\n",
      "Epoch 45/390\n",
      "26/26 [==============================] - 0s 2ms/step - loss: 0.0106 - val_loss: 0.0107\n",
      "Epoch 46/390\n",
      "26/26 [==============================] - 0s 2ms/step - loss: 0.0100 - val_loss: 0.0102\n",
      "Epoch 47/390\n",
      "26/26 [==============================] - 0s 2ms/step - loss: 0.0095 - val_loss: 0.0097\n",
      "Epoch 48/390\n",
      "26/26 [==============================] - 0s 2ms/step - loss: 0.0090 - val_loss: 0.0092\n",
      "Epoch 49/390\n",
      "26/26 [==============================] - 0s 2ms/step - loss: 0.0086 - val_loss: 0.0087\n",
      "Epoch 50/390\n",
      "26/26 [==============================] - 0s 2ms/step - loss: 0.0082 - val_loss: 0.0083\n",
      "Epoch 51/390\n",
      "26/26 [==============================] - 0s 2ms/step - loss: 0.0078 - val_loss: 0.0079\n",
      "Epoch 52/390\n",
      "26/26 [==============================] - 0s 2ms/step - loss: 0.0074 - val_loss: 0.0076\n",
      "Epoch 53/390\n",
      "26/26 [==============================] - 0s 2ms/step - loss: 0.0071 - val_loss: 0.0072\n",
      "Epoch 54/390\n",
      "26/26 [==============================] - 0s 2ms/step - loss: 0.0068 - val_loss: 0.0069\n",
      "Epoch 55/390\n",
      "26/26 [==============================] - 0s 2ms/step - loss: 0.0065 - val_loss: 0.0066\n",
      "Epoch 56/390\n",
      "26/26 [==============================] - 0s 2ms/step - loss: 0.0062 - val_loss: 0.0063\n",
      "Epoch 57/390\n",
      "26/26 [==============================] - 0s 2ms/step - loss: 0.0059 - val_loss: 0.0061\n",
      "Epoch 58/390\n",
      "26/26 [==============================] - 0s 2ms/step - loss: 0.0057 - val_loss: 0.0058\n",
      "Epoch 59/390\n",
      "26/26 [==============================] - 0s 2ms/step - loss: 0.0054 - val_loss: 0.0056\n",
      "Epoch 60/390\n",
      "26/26 [==============================] - 0s 2ms/step - loss: 0.0052 - val_loss: 0.0053\n",
      "Epoch 61/390\n",
      "26/26 [==============================] - 0s 2ms/step - loss: 0.0050 - val_loss: 0.0051\n",
      "Epoch 62/390\n",
      "26/26 [==============================] - 0s 2ms/step - loss: 0.0048 - val_loss: 0.0049\n",
      "Epoch 63/390\n",
      "26/26 [==============================] - 0s 2ms/step - loss: 0.0046 - val_loss: 0.0048\n",
      "Epoch 64/390\n",
      "26/26 [==============================] - 0s 2ms/step - loss: 0.0044 - val_loss: 0.0046\n",
      "Epoch 65/390\n",
      "26/26 [==============================] - 0s 2ms/step - loss: 0.0042 - val_loss: 0.0044\n",
      "Epoch 66/390\n",
      "26/26 [==============================] - 0s 2ms/step - loss: 0.0041 - val_loss: 0.0042\n",
      "Epoch 67/390\n",
      "26/26 [==============================] - 0s 2ms/step - loss: 0.0039 - val_loss: 0.0040\n",
      "Epoch 68/390\n",
      "26/26 [==============================] - 0s 2ms/step - loss: 0.0038 - val_loss: 0.0039\n",
      "Epoch 69/390\n",
      "26/26 [==============================] - 0s 2ms/step - loss: 0.0036 - val_loss: 0.0038\n",
      "Epoch 70/390\n",
      "26/26 [==============================] - 0s 2ms/step - loss: 0.0035 - val_loss: 0.0036\n",
      "Epoch 71/390\n",
      "26/26 [==============================] - 0s 2ms/step - loss: 0.0034 - val_loss: 0.0035\n",
      "Epoch 72/390\n",
      "26/26 [==============================] - 0s 2ms/step - loss: 0.0033 - val_loss: 0.0034\n",
      "Epoch 73/390\n",
      "26/26 [==============================] - 0s 2ms/step - loss: 0.0031 - val_loss: 0.0033\n",
      "Epoch 74/390\n",
      "26/26 [==============================] - 0s 2ms/step - loss: 0.0030 - val_loss: 0.0032\n",
      "Epoch 75/390\n",
      "26/26 [==============================] - 0s 2ms/step - loss: 0.0029 - val_loss: 0.0031\n",
      "Epoch 76/390\n",
      "26/26 [==============================] - 0s 2ms/step - loss: 0.0028 - val_loss: 0.0029\n",
      "Epoch 77/390\n",
      "26/26 [==============================] - 0s 2ms/step - loss: 0.0027 - val_loss: 0.0028\n",
      "Epoch 78/390\n",
      "26/26 [==============================] - 0s 2ms/step - loss: 0.0026 - val_loss: 0.0027\n",
      "Epoch 79/390\n",
      "26/26 [==============================] - 0s 2ms/step - loss: 0.0025 - val_loss: 0.0026\n",
      "Epoch 80/390\n",
      "26/26 [==============================] - 0s 2ms/step - loss: 0.0024 - val_loss: 0.0026\n",
      "Epoch 81/390\n",
      "26/26 [==============================] - 0s 2ms/step - loss: 0.0023 - val_loss: 0.0025\n",
      "Epoch 82/390\n",
      "26/26 [==============================] - 0s 2ms/step - loss: 0.0023 - val_loss: 0.0024\n",
      "Epoch 83/390\n"
     ]
    },
    {
     "name": "stdout",
     "output_type": "stream",
     "text": [
      "26/26 [==============================] - 0s 2ms/step - loss: 0.0022 - val_loss: 0.0023\n",
      "Epoch 84/390\n",
      "26/26 [==============================] - 0s 2ms/step - loss: 0.0021 - val_loss: 0.0022\n",
      "Epoch 85/390\n",
      "26/26 [==============================] - 0s 2ms/step - loss: 0.0020 - val_loss: 0.0022\n",
      "Epoch 86/390\n",
      "26/26 [==============================] - 0s 2ms/step - loss: 0.0020 - val_loss: 0.0021\n",
      "Epoch 87/390\n",
      "26/26 [==============================] - 0s 2ms/step - loss: 0.0019 - val_loss: 0.0020\n",
      "Epoch 88/390\n",
      "26/26 [==============================] - 0s 2ms/step - loss: 0.0018 - val_loss: 0.0020\n",
      "Epoch 89/390\n",
      "26/26 [==============================] - 0s 2ms/step - loss: 0.0018 - val_loss: 0.0019\n",
      "Epoch 90/390\n",
      "26/26 [==============================] - 0s 2ms/step - loss: 0.0017 - val_loss: 0.0018\n",
      "Epoch 91/390\n",
      "26/26 [==============================] - 0s 2ms/step - loss: 0.0017 - val_loss: 0.0018\n",
      "Epoch 92/390\n",
      "26/26 [==============================] - 0s 2ms/step - loss: 0.0016 - val_loss: 0.0017\n",
      "Epoch 93/390\n",
      "26/26 [==============================] - 0s 2ms/step - loss: 0.0015 - val_loss: 0.0017\n",
      "Epoch 94/390\n",
      "26/26 [==============================] - 0s 2ms/step - loss: 0.0015 - val_loss: 0.0017\n",
      "Epoch 95/390\n",
      "26/26 [==============================] - 0s 2ms/step - loss: 0.0015 - val_loss: 0.0016\n",
      "Epoch 96/390\n",
      "26/26 [==============================] - 0s 2ms/step - loss: 0.0014 - val_loss: 0.0015\n",
      "Epoch 97/390\n",
      "26/26 [==============================] - 0s 2ms/step - loss: 0.0014 - val_loss: 0.0015\n",
      "Epoch 98/390\n",
      "26/26 [==============================] - 0s 2ms/step - loss: 0.0013 - val_loss: 0.0015\n",
      "Epoch 99/390\n",
      "26/26 [==============================] - 0s 2ms/step - loss: 0.0013 - val_loss: 0.0014\n",
      "Epoch 100/390\n",
      "26/26 [==============================] - 0s 2ms/step - loss: 0.0013 - val_loss: 0.0014\n",
      "Epoch 101/390\n",
      "26/26 [==============================] - 0s 2ms/step - loss: 0.0012 - val_loss: 0.0014\n",
      "Epoch 102/390\n",
      "26/26 [==============================] - 0s 2ms/step - loss: 0.0012 - val_loss: 0.0013\n",
      "Epoch 103/390\n",
      "26/26 [==============================] - 0s 2ms/step - loss: 0.0012 - val_loss: 0.0012\n",
      "Epoch 104/390\n",
      "26/26 [==============================] - 0s 2ms/step - loss: 0.0011 - val_loss: 0.0013\n",
      "Epoch 105/390\n",
      "26/26 [==============================] - 0s 2ms/step - loss: 0.0011 - val_loss: 0.0012\n",
      "Epoch 106/390\n",
      "26/26 [==============================] - 0s 2ms/step - loss: 0.0011 - val_loss: 0.0012\n",
      "Epoch 107/390\n",
      "26/26 [==============================] - 0s 2ms/step - loss: 0.0010 - val_loss: 0.0012\n",
      "Epoch 108/390\n",
      "26/26 [==============================] - 0s 2ms/step - loss: 0.0010 - val_loss: 0.0011\n",
      "Epoch 109/390\n",
      "26/26 [==============================] - 0s 2ms/step - loss: 9.8848e-04 - val_loss: 0.0011\n",
      "Epoch 110/390\n",
      "26/26 [==============================] - 0s 2ms/step - loss: 9.6532e-04 - val_loss: 0.0011\n",
      "Epoch 111/390\n",
      "26/26 [==============================] - 0s 2ms/step - loss: 9.3830e-04 - val_loss: 0.0011\n",
      "Epoch 112/390\n",
      "26/26 [==============================] - 0s 2ms/step - loss: 9.1651e-04 - val_loss: 0.0011\n",
      "Epoch 113/390\n",
      "26/26 [==============================] - 0s 2ms/step - loss: 8.9316e-04 - val_loss: 0.0010\n",
      "Epoch 114/390\n",
      "26/26 [==============================] - 0s 2ms/step - loss: 8.7605e-04 - val_loss: 9.8951e-04\n",
      "Epoch 115/390\n",
      "26/26 [==============================] - 0s 2ms/step - loss: 8.5193e-04 - val_loss: 0.0010\n",
      "Epoch 116/390\n",
      "26/26 [==============================] - 0s 2ms/step - loss: 8.3576e-04 - val_loss: 0.0010\n",
      "Epoch 117/390\n",
      "26/26 [==============================] - 0s 2ms/step - loss: 8.1723e-04 - val_loss: 0.0010\n",
      "Epoch 118/390\n",
      "26/26 [==============================] - 0s 2ms/step - loss: 7.9669e-04 - val_loss: 8.8532e-04\n",
      "Epoch 119/390\n",
      "26/26 [==============================] - 0s 2ms/step - loss: 7.7884e-04 - val_loss: 9.2866e-04\n",
      "Epoch 120/390\n",
      "26/26 [==============================] - 0s 2ms/step - loss: 7.5847e-04 - val_loss: 8.5391e-04\n",
      "Epoch 121/390\n",
      "26/26 [==============================] - 0s 2ms/step - loss: 7.4563e-04 - val_loss: 8.2026e-04\n",
      "Epoch 122/390\n",
      "26/26 [==============================] - 0s 2ms/step - loss: 7.2681e-04 - val_loss: 8.6831e-04\n",
      "Epoch 123/390\n",
      "26/26 [==============================] - 0s 2ms/step - loss: 7.1023e-04 - val_loss: 8.5854e-04\n",
      "Epoch 124/390\n",
      "26/26 [==============================] - 0s 2ms/step - loss: 6.9213e-04 - val_loss: 8.1977e-04\n",
      "Epoch 125/390\n",
      "26/26 [==============================] - 0s 2ms/step - loss: 6.7582e-04 - val_loss: 8.1414e-04\n",
      "Epoch 126/390\n",
      "26/26 [==============================] - 0s 2ms/step - loss: 6.6133e-04 - val_loss: 8.1868e-04\n",
      "Epoch 127/390\n",
      "26/26 [==============================] - 0s 2ms/step - loss: 6.4666e-04 - val_loss: 7.2347e-04\n",
      "Epoch 128/390\n",
      "26/26 [==============================] - 0s 2ms/step - loss: 6.3229e-04 - val_loss: 8.2391e-04\n",
      "Epoch 129/390\n",
      "26/26 [==============================] - 0s 2ms/step - loss: 6.2472e-04 - val_loss: 8.0639e-04\n",
      "Epoch 130/390\n",
      "26/26 [==============================] - 0s 2ms/step - loss: 6.0628e-04 - val_loss: 7.1223e-04\n",
      "Epoch 131/390\n",
      "26/26 [==============================] - 0s 2ms/step - loss: 5.9286e-04 - val_loss: 7.9533e-04\n",
      "Epoch 132/390\n",
      "26/26 [==============================] - 0s 2ms/step - loss: 5.8115e-04 - val_loss: 7.0738e-04\n",
      "Epoch 133/390\n",
      "26/26 [==============================] - 0s 2ms/step - loss: 5.6691e-04 - val_loss: 7.4022e-04\n",
      "Epoch 134/390\n",
      "26/26 [==============================] - 0s 2ms/step - loss: 5.5533e-04 - val_loss: 6.9836e-04\n",
      "Epoch 135/390\n",
      "26/26 [==============================] - 0s 2ms/step - loss: 5.4276e-04 - val_loss: 6.8759e-04\n",
      "Epoch 136/390\n",
      "26/26 [==============================] - 0s 2ms/step - loss: 5.3055e-04 - val_loss: 7.2404e-04\n",
      "Epoch 137/390\n",
      "26/26 [==============================] - 0s 2ms/step - loss: 5.2082e-04 - val_loss: 6.9204e-04\n",
      "Epoch 138/390\n",
      "26/26 [==============================] - 0s 2ms/step - loss: 5.0983e-04 - val_loss: 7.0460e-04\n",
      "Epoch 139/390\n",
      "26/26 [==============================] - 0s 2ms/step - loss: 5.0069e-04 - val_loss: 6.5477e-04\n",
      "Epoch 140/390\n",
      "26/26 [==============================] - 0s 2ms/step - loss: 4.9545e-04 - val_loss: 5.7830e-04\n",
      "Epoch 141/390\n",
      "26/26 [==============================] - 0s 2ms/step - loss: 4.8190e-04 - val_loss: 5.9618e-04\n",
      "Epoch 142/390\n",
      "26/26 [==============================] - 0s 2ms/step - loss: 4.6801e-04 - val_loss: 6.0593e-04\n",
      "Epoch 143/390\n",
      "26/26 [==============================] - 0s 2ms/step - loss: 4.6403e-04 - val_loss: 6.5276e-04\n",
      "Epoch 144/390\n",
      "26/26 [==============================] - 0s 2ms/step - loss: 4.5075e-04 - val_loss: 5.9810e-04\n",
      "Epoch 145/390\n",
      "26/26 [==============================] - 0s 2ms/step - loss: 4.4166e-04 - val_loss: 6.2784e-04\n",
      "Epoch 146/390\n",
      "26/26 [==============================] - 0s 2ms/step - loss: 4.3579e-04 - val_loss: 5.7423e-04\n",
      "Epoch 147/390\n",
      "26/26 [==============================] - 0s 2ms/step - loss: 4.2456e-04 - val_loss: 6.0101e-04\n",
      "Epoch 148/390\n",
      "26/26 [==============================] - 0s 2ms/step - loss: 4.1522e-04 - val_loss: 5.6085e-04\n",
      "Epoch 149/390\n",
      "26/26 [==============================] - 0s 2ms/step - loss: 4.0875e-04 - val_loss: 5.7883e-04\n",
      "Epoch 150/390\n",
      "26/26 [==============================] - 0s 2ms/step - loss: 4.0395e-04 - val_loss: 6.0358e-04\n",
      "Epoch 151/390\n",
      "26/26 [==============================] - 0s 2ms/step - loss: 3.9405e-04 - val_loss: 5.0075e-04\n",
      "Epoch 152/390\n",
      "26/26 [==============================] - 0s 2ms/step - loss: 3.9062e-04 - val_loss: 5.0052e-04\n",
      "Epoch 153/390\n",
      "26/26 [==============================] - 0s 2ms/step - loss: 3.8051e-04 - val_loss: 5.1873e-04\n",
      "Epoch 154/390\n",
      "26/26 [==============================] - 0s 2ms/step - loss: 3.7503e-04 - val_loss: 5.4297e-04\n",
      "Epoch 155/390\n",
      "26/26 [==============================] - 0s 2ms/step - loss: 3.6977e-04 - val_loss: 5.0622e-04\n",
      "Epoch 156/390\n",
      "26/26 [==============================] - 0s 2ms/step - loss: 3.6267e-04 - val_loss: 5.3277e-04\n",
      "Epoch 157/390\n",
      "26/26 [==============================] - 0s 2ms/step - loss: 3.5874e-04 - val_loss: 5.3089e-04\n",
      "Epoch 158/390\n",
      "26/26 [==============================] - 0s 2ms/step - loss: 3.5056e-04 - val_loss: 5.0261e-04\n",
      "Epoch 159/390\n",
      "26/26 [==============================] - 0s 2ms/step - loss: 3.4533e-04 - val_loss: 5.0020e-04\n",
      "Epoch 160/390\n"
     ]
    },
    {
     "name": "stdout",
     "output_type": "stream",
     "text": [
      "26/26 [==============================] - 0s 2ms/step - loss: 3.4004e-04 - val_loss: 4.6425e-04\n",
      "Epoch 161/390\n",
      "26/26 [==============================] - 0s 2ms/step - loss: 3.3385e-04 - val_loss: 4.8223e-04\n",
      "Epoch 162/390\n",
      "26/26 [==============================] - 0s 2ms/step - loss: 3.3009e-04 - val_loss: 4.6206e-04\n",
      "Epoch 163/390\n",
      "26/26 [==============================] - 0s 2ms/step - loss: 3.2460e-04 - val_loss: 4.7960e-04\n",
      "Epoch 164/390\n",
      "26/26 [==============================] - 0s 2ms/step - loss: 3.1804e-04 - val_loss: 4.3047e-04\n",
      "Epoch 165/390\n",
      "26/26 [==============================] - 0s 2ms/step - loss: 3.1609e-04 - val_loss: 4.3634e-04\n",
      "Epoch 166/390\n",
      "26/26 [==============================] - 0s 2ms/step - loss: 3.1706e-04 - val_loss: 4.3294e-04\n",
      "Epoch 167/390\n",
      "26/26 [==============================] - 0s 2ms/step - loss: 3.1065e-04 - val_loss: 4.2355e-04\n",
      "Epoch 168/390\n",
      "26/26 [==============================] - 0s 2ms/step - loss: 3.1116e-04 - val_loss: 4.1233e-04\n",
      "Epoch 169/390\n",
      "26/26 [==============================] - 0s 2ms/step - loss: 3.0653e-04 - val_loss: 3.5423e-04\n",
      "Epoch 170/390\n",
      "26/26 [==============================] - 0s 2ms/step - loss: 3.0004e-04 - val_loss: 4.1250e-04\n",
      "Epoch 171/390\n",
      "26/26 [==============================] - 0s 2ms/step - loss: 2.9163e-04 - val_loss: 4.5854e-04\n",
      "Epoch 172/390\n",
      "26/26 [==============================] - 0s 2ms/step - loss: 2.8604e-04 - val_loss: 4.5833e-04\n",
      "Epoch 173/390\n",
      "26/26 [==============================] - 0s 2ms/step - loss: 2.8280e-04 - val_loss: 4.2770e-04\n",
      "Epoch 174/390\n",
      "26/26 [==============================] - 0s 2ms/step - loss: 2.8084e-04 - val_loss: 3.8810e-04\n",
      "Epoch 175/390\n",
      "26/26 [==============================] - 0s 2ms/step - loss: 2.7760e-04 - val_loss: 4.6383e-04\n",
      "Epoch 176/390\n",
      "26/26 [==============================] - 0s 2ms/step - loss: 2.7344e-04 - val_loss: 4.2854e-04\n",
      "Epoch 177/390\n",
      "26/26 [==============================] - 0s 2ms/step - loss: 2.7063e-04 - val_loss: 3.8192e-04\n",
      "Epoch 178/390\n",
      "26/26 [==============================] - 0s 2ms/step - loss: 2.6752e-04 - val_loss: 4.5451e-04\n",
      "Epoch 179/390\n",
      "26/26 [==============================] - 0s 2ms/step - loss: 2.6544e-04 - val_loss: 4.6861e-04\n",
      "Epoch 180/390\n",
      "26/26 [==============================] - 0s 2ms/step - loss: 2.6192e-04 - val_loss: 3.8692e-04\n",
      "Epoch 181/390\n",
      "26/26 [==============================] - 0s 2ms/step - loss: 2.6051e-04 - val_loss: 3.9699e-04\n",
      "Epoch 182/390\n",
      "26/26 [==============================] - 0s 2ms/step - loss: 2.5493e-04 - val_loss: 4.2506e-04\n",
      "Epoch 183/390\n",
      "26/26 [==============================] - 0s 2ms/step - loss: 2.5330e-04 - val_loss: 4.2859e-04\n",
      "Epoch 184/390\n",
      "26/26 [==============================] - 0s 2ms/step - loss: 2.5096e-04 - val_loss: 4.0077e-04\n",
      "Epoch 185/390\n",
      "26/26 [==============================] - 0s 2ms/step - loss: 2.4690e-04 - val_loss: 3.9176e-04\n",
      "Epoch 186/390\n",
      "26/26 [==============================] - 0s 2ms/step - loss: 2.4391e-04 - val_loss: 3.9079e-04\n",
      "Epoch 187/390\n",
      "26/26 [==============================] - -0s -11475us/step - loss: 2.4374e-04 - val_loss: 3.9108e-04\n",
      "Epoch 188/390\n",
      "26/26 [==============================] - 0s 2ms/step - loss: 2.4010e-04 - val_loss: 4.1895e-04\n",
      "Epoch 189/390\n",
      "26/26 [==============================] - 0s 2ms/step - loss: 2.3710e-04 - val_loss: 4.4947e-04\n",
      "Epoch 190/390\n",
      "26/26 [==============================] - 0s 2ms/step - loss: 2.3646e-04 - val_loss: 4.6166e-04\n",
      "Epoch 191/390\n",
      "26/26 [==============================] - 0s 2ms/step - loss: 2.3305e-04 - val_loss: 4.3047e-04\n",
      "Epoch 192/390\n",
      "26/26 [==============================] - 0s 2ms/step - loss: 2.2901e-04 - val_loss: 3.9972e-04\n",
      "Epoch 193/390\n",
      "26/26 [==============================] - 0s 2ms/step - loss: 2.2661e-04 - val_loss: 3.5329e-04\n",
      "Epoch 194/390\n",
      "26/26 [==============================] - 0s 2ms/step - loss: 2.2711e-04 - val_loss: 4.0531e-04\n",
      "Epoch 195/390\n",
      "26/26 [==============================] - 0s 2ms/step - loss: 2.2189e-04 - val_loss: 3.5203e-04\n",
      "Epoch 196/390\n",
      "26/26 [==============================] - 0s 2ms/step - loss: 2.2380e-04 - val_loss: 3.8986e-04\n",
      "Epoch 197/390\n",
      "26/26 [==============================] - 0s 2ms/step - loss: 2.2483e-04 - val_loss: 3.9213e-04\n",
      "Epoch 198/390\n",
      "26/26 [==============================] - 0s 2ms/step - loss: 2.1560e-04 - val_loss: 3.8161e-04\n",
      "Epoch 199/390\n",
      "26/26 [==============================] - 0s 2ms/step - loss: 2.1404e-04 - val_loss: 4.0344e-04\n",
      "Epoch 200/390\n",
      "26/26 [==============================] - 0s 2ms/step - loss: 2.1167e-04 - val_loss: 4.1355e-04\n",
      "Epoch 201/390\n",
      "26/26 [==============================] - 0s 2ms/step - loss: 2.1149e-04 - val_loss: 4.1636e-04\n",
      "Epoch 202/390\n",
      "26/26 [==============================] - 0s 2ms/step - loss: 2.0709e-04 - val_loss: 4.2536e-04\n",
      "Epoch 203/390\n",
      "26/26 [==============================] - 0s 2ms/step - loss: 2.0568e-04 - val_loss: 4.6262e-04\n",
      "Epoch 204/390\n",
      "26/26 [==============================] - 0s 2ms/step - loss: 2.0666e-04 - val_loss: 3.9673e-04\n",
      "Epoch 205/390\n",
      "26/26 [==============================] - 0s 1ms/step - loss: 2.0823e-04 - val_loss: 3.3828e-04\n",
      "Epoch 206/390\n",
      "26/26 [==============================] - 0s 2ms/step - loss: 2.0346e-04 - val_loss: 3.1228e-04\n",
      "Epoch 207/390\n",
      "26/26 [==============================] - 0s 1ms/step - loss: 1.9606e-04 - val_loss: 3.9754e-04\n",
      "Epoch 208/390\n",
      "26/26 [==============================] - 0s 2ms/step - loss: 2.0073e-04 - val_loss: 4.4193e-04\n",
      "Epoch 209/390\n",
      "26/26 [==============================] - 32s 1s/step - loss: 1.9691e-04 - val_loss: 4.1582e-04\n",
      "Epoch 210/390\n",
      "26/26 [==============================] - 0s 2ms/step - loss: 1.9289e-04 - val_loss: 3.6212e-04\n",
      "Epoch 211/390\n",
      "26/26 [==============================] - 0s 2ms/step - loss: 1.9047e-04 - val_loss: 3.9993e-04\n",
      "Epoch 212/390\n",
      "26/26 [==============================] - 0s 2ms/step - loss: 1.8963e-04 - val_loss: 3.5233e-04\n",
      "Epoch 213/390\n",
      "26/26 [==============================] - 0s 1ms/step - loss: 1.8719e-04 - val_loss: 3.8379e-04\n",
      "Epoch 214/390\n",
      "26/26 [==============================] - 0s 2ms/step - loss: 1.8527e-04 - val_loss: 3.7217e-04\n",
      "Epoch 215/390\n",
      "26/26 [==============================] - 0s 1ms/step - loss: 1.8488e-04 - val_loss: 3.6669e-04\n",
      "Epoch 216/390\n",
      "26/26 [==============================] - 0s 1ms/step - loss: 1.8205e-04 - val_loss: 3.2908e-04\n",
      "Epoch 217/390\n",
      "26/26 [==============================] - 0s 1ms/step - loss: 1.8074e-04 - val_loss: 3.2465e-04\n",
      "Epoch 218/390\n",
      "26/26 [==============================] - 0s 1ms/step - loss: 1.7860e-04 - val_loss: 3.7711e-04\n",
      "Epoch 219/390\n",
      "26/26 [==============================] - 0s 1ms/step - loss: 1.7877e-04 - val_loss: 3.2526e-04\n",
      "Epoch 220/390\n",
      "26/26 [==============================] - 0s 2ms/step - loss: 1.7455e-04 - val_loss: 4.4302e-04\n",
      "Epoch 221/390\n",
      "26/26 [==============================] - 0s 2ms/step - loss: 1.7771e-04 - val_loss: 3.3339e-04\n",
      "Epoch 222/390\n",
      "26/26 [==============================] - 0s 2ms/step - loss: 1.7248e-04 - val_loss: 3.4257e-04\n",
      "Epoch 223/390\n",
      "26/26 [==============================] - 0s 2ms/step - loss: 1.7069e-04 - val_loss: 3.8353e-04\n",
      "Epoch 224/390\n",
      "26/26 [==============================] - 0s 1ms/step - loss: 1.7168e-04 - val_loss: 3.5328e-04\n",
      "Epoch 225/390\n",
      "26/26 [==============================] - 0s 2ms/step - loss: 1.7008e-04 - val_loss: 3.9244e-04\n",
      "Epoch 226/390\n",
      "26/26 [==============================] - 0s 5ms/step - loss: 1.6619e-04 - val_loss: 3.3311e-04\n",
      "Epoch 227/390\n",
      "26/26 [==============================] - 0s 4ms/step - loss: 1.6635e-04 - val_loss: 3.0474e-04\n",
      "Epoch 228/390\n",
      "26/26 [==============================] - 0s 4ms/step - loss: 1.6513e-04 - val_loss: 3.8691e-04\n",
      "Epoch 229/390\n",
      "26/26 [==============================] - 0s 4ms/step - loss: 1.6419e-04 - val_loss: 3.5716e-04\n",
      "Epoch 230/390\n",
      "26/26 [==============================] - 0s 3ms/step - loss: 1.6428e-04 - val_loss: 3.7734e-04\n",
      "Epoch 231/390\n",
      "26/26 [==============================] - 0s 3ms/step - loss: 1.6386e-04 - val_loss: 4.4908e-04\n",
      "Epoch 232/390\n",
      "26/26 [==============================] - 0s 3ms/step - loss: 1.6385e-04 - val_loss: 3.3873e-04\n",
      "Epoch 233/390\n",
      "26/26 [==============================] - 0s 3ms/step - loss: 1.5823e-04 - val_loss: 3.2433e-04\n",
      "Epoch 234/390\n",
      "26/26 [==============================] - 0s 2ms/step - loss: 1.5614e-04 - val_loss: 3.3760e-04\n",
      "Epoch 235/390\n"
     ]
    },
    {
     "name": "stdout",
     "output_type": "stream",
     "text": [
      "26/26 [==============================] - 0s 2ms/step - loss: 1.5621e-04 - val_loss: 3.6008e-04\n",
      "Epoch 236/390\n",
      "26/26 [==============================] - 0s 2ms/step - loss: 1.5454e-04 - val_loss: 3.7958e-04\n",
      "Epoch 237/390\n",
      "26/26 [==============================] - 0s 2ms/step - loss: 1.5333e-04 - val_loss: 3.4245e-04\n",
      "Epoch 238/390\n",
      "26/26 [==============================] - 0s 2ms/step - loss: 1.5359e-04 - val_loss: 3.0535e-04\n",
      "Epoch 239/390\n",
      "26/26 [==============================] - 0s 2ms/step - loss: 1.5099e-04 - val_loss: 3.3953e-04\n",
      "Epoch 240/390\n",
      "26/26 [==============================] - 0s 2ms/step - loss: 1.4975e-04 - val_loss: 3.7610e-04\n",
      "Epoch 241/390\n",
      "26/26 [==============================] - 0s 2ms/step - loss: 1.4836e-04 - val_loss: 3.5903e-04\n",
      "Epoch 242/390\n",
      "26/26 [==============================] - 0s 2ms/step - loss: 1.4640e-04 - val_loss: 3.2866e-04\n",
      "Epoch 243/390\n",
      "26/26 [==============================] - 0s 2ms/step - loss: 1.4527e-04 - val_loss: 3.7372e-04\n",
      "Epoch 244/390\n",
      "26/26 [==============================] - 0s 3ms/step - loss: 1.4628e-04 - val_loss: 2.6756e-04\n",
      "Epoch 245/390\n",
      "26/26 [==============================] - 0s 3ms/step - loss: 1.4537e-04 - val_loss: 3.4563e-04\n",
      "Epoch 246/390\n",
      "26/26 [==============================] - 0s 2ms/step - loss: 1.4518e-04 - val_loss: 3.3329e-04\n",
      "Epoch 247/390\n",
      "26/26 [==============================] - 0s 2ms/step - loss: 1.4265e-04 - val_loss: 3.0430e-04\n",
      "Epoch 248/390\n",
      "26/26 [==============================] - 0s 2ms/step - loss: 1.3983e-04 - val_loss: 3.8130e-04\n",
      "Epoch 249/390\n",
      "26/26 [==============================] - 0s 2ms/step - loss: 1.3963e-04 - val_loss: 3.9016e-04\n",
      "Epoch 250/390\n",
      "26/26 [==============================] - 0s 2ms/step - loss: 1.3864e-04 - val_loss: 3.4122e-04\n",
      "Epoch 251/390\n",
      "26/26 [==============================] - 0s 2ms/step - loss: 1.3836e-04 - val_loss: 3.2425e-04\n",
      "Epoch 252/390\n",
      "26/26 [==============================] - 0s 2ms/step - loss: 1.3782e-04 - val_loss: 4.0477e-04\n",
      "Epoch 253/390\n",
      "26/26 [==============================] - 0s 2ms/step - loss: 1.3778e-04 - val_loss: 3.5370e-04\n",
      "Epoch 254/390\n",
      "26/26 [==============================] - 0s 2ms/step - loss: 1.3451e-04 - val_loss: 3.3807e-04\n",
      "Epoch 255/390\n",
      "26/26 [==============================] - 0s 2ms/step - loss: 1.3422e-04 - val_loss: 3.1609e-04\n",
      "Epoch 256/390\n",
      "26/26 [==============================] - 0s 2ms/step - loss: 1.3309e-04 - val_loss: 3.6207e-04\n",
      "Epoch 257/390\n",
      "26/26 [==============================] - 0s 2ms/step - loss: 1.3098e-04 - val_loss: 3.5226e-04\n",
      "Epoch 258/390\n",
      "26/26 [==============================] - 0s 2ms/step - loss: 1.3117e-04 - val_loss: 3.0098e-04\n",
      "Epoch 259/390\n",
      "26/26 [==============================] - 0s 2ms/step - loss: 1.2968e-04 - val_loss: 3.5430e-04\n",
      "Epoch 260/390\n",
      "26/26 [==============================] - 0s 2ms/step - loss: 1.2825e-04 - val_loss: 2.7206e-04\n",
      "Epoch 261/390\n",
      "26/26 [==============================] - 0s 2ms/step - loss: 1.2808e-04 - val_loss: 3.0264e-04\n",
      "Epoch 262/390\n",
      "26/26 [==============================] - 0s 2ms/step - loss: 1.2669e-04 - val_loss: 3.1388e-04\n",
      "Epoch 263/390\n",
      "26/26 [==============================] - 0s 2ms/step - loss: 1.3227e-04 - val_loss: 3.6239e-04\n",
      "Epoch 264/390\n",
      "26/26 [==============================] - 0s 2ms/step - loss: 1.2490e-04 - val_loss: 3.1524e-04\n",
      "Epoch 265/390\n",
      "26/26 [==============================] - 0s 2ms/step - loss: 1.2370e-04 - val_loss: 3.4861e-04\n",
      "Epoch 266/390\n",
      "26/26 [==============================] - 0s 2ms/step - loss: 1.2338e-04 - val_loss: 2.8546e-04\n",
      "Epoch 267/390\n",
      "26/26 [==============================] - 0s 2ms/step - loss: 1.2443e-04 - val_loss: 2.8368e-04\n",
      "Epoch 268/390\n",
      "26/26 [==============================] - 0s 2ms/step - loss: 1.2259e-04 - val_loss: 3.1459e-04\n",
      "Epoch 269/390\n",
      "26/26 [==============================] - 0s 2ms/step - loss: 1.2110e-04 - val_loss: 3.9962e-04\n",
      "Epoch 270/390\n",
      "26/26 [==============================] - 0s 2ms/step - loss: 1.2461e-04 - val_loss: 3.6428e-04\n",
      "Epoch 271/390\n",
      "26/26 [==============================] - 0s 2ms/step - loss: 1.2212e-04 - val_loss: 2.9602e-04\n",
      "Epoch 272/390\n",
      "26/26 [==============================] - 0s 2ms/step - loss: 1.1722e-04 - val_loss: 3.5407e-04\n",
      "Epoch 273/390\n",
      "26/26 [==============================] - 0s 2ms/step - loss: 1.1755e-04 - val_loss: 3.1462e-04\n",
      "Epoch 274/390\n",
      "26/26 [==============================] - 0s 2ms/step - loss: 1.1649e-04 - val_loss: 3.8446e-04\n",
      "Epoch 275/390\n",
      "26/26 [==============================] - 0s 2ms/step - loss: 1.1483e-04 - val_loss: 3.2433e-04\n",
      "Epoch 276/390\n",
      "26/26 [==============================] - 0s 2ms/step - loss: 1.1446e-04 - val_loss: 3.1910e-04\n",
      "Epoch 277/390\n",
      "26/26 [==============================] - 0s 2ms/step - loss: 1.1422e-04 - val_loss: 3.2427e-04\n",
      "Epoch 278/390\n",
      "26/26 [==============================] - 0s 2ms/step - loss: 1.1228e-04 - val_loss: 2.7387e-04\n",
      "Epoch 279/390\n",
      "26/26 [==============================] - 0s 2ms/step - loss: 1.1536e-04 - val_loss: 3.7299e-04\n",
      "Epoch 280/390\n",
      "26/26 [==============================] - 0s 2ms/step - loss: 1.1480e-04 - val_loss: 3.5355e-04\n",
      "Epoch 281/390\n",
      "26/26 [==============================] - 0s 2ms/step - loss: 1.1405e-04 - val_loss: 2.7506e-04\n",
      "Epoch 282/390\n",
      "26/26 [==============================] - 0s 2ms/step - loss: 1.1128e-04 - val_loss: 3.0725e-04\n",
      "Epoch 283/390\n",
      "26/26 [==============================] - 0s 2ms/step - loss: 1.0982e-04 - val_loss: 3.9098e-04\n",
      "Epoch 284/390\n",
      "26/26 [==============================] - 0s 2ms/step - loss: 1.0882e-04 - val_loss: 3.2912e-04\n",
      "Epoch 285/390\n",
      "26/26 [==============================] - 0s 2ms/step - loss: 1.0868e-04 - val_loss: 2.8479e-04\n",
      "Epoch 286/390\n",
      "26/26 [==============================] - 0s 2ms/step - loss: 1.0736e-04 - val_loss: 3.1460e-04\n",
      "Epoch 287/390\n",
      "26/26 [==============================] - 0s 2ms/step - loss: 1.0639e-04 - val_loss: 3.0587e-04\n",
      "Epoch 288/390\n",
      "26/26 [==============================] - 0s 2ms/step - loss: 1.0680e-04 - val_loss: 3.1864e-04\n",
      "Epoch 289/390\n",
      "26/26 [==============================] - 0s 2ms/step - loss: 1.0346e-04 - val_loss: 2.7815e-04\n",
      "Epoch 290/390\n",
      "26/26 [==============================] - 0s 2ms/step - loss: 1.0760e-04 - val_loss: 3.5590e-04\n",
      "Epoch 291/390\n",
      "26/26 [==============================] - 0s 2ms/step - loss: 1.0459e-04 - val_loss: 2.8957e-04\n",
      "Epoch 292/390\n",
      "26/26 [==============================] - 0s 2ms/step - loss: 1.0465e-04 - val_loss: 2.6708e-04\n",
      "Epoch 293/390\n",
      "26/26 [==============================] - 0s 2ms/step - loss: 1.0395e-04 - val_loss: 3.4821e-04\n",
      "Epoch 294/390\n",
      "26/26 [==============================] - 0s 2ms/step - loss: 1.0174e-04 - val_loss: 2.6880e-04\n",
      "Epoch 295/390\n",
      "26/26 [==============================] - 0s 2ms/step - loss: 1.0117e-04 - val_loss: 2.8894e-04\n",
      "Epoch 296/390\n",
      "26/26 [==============================] - 0s 2ms/step - loss: 9.9795e-05 - val_loss: 3.1990e-04\n",
      "Epoch 297/390\n",
      "26/26 [==============================] - 0s 2ms/step - loss: 9.9607e-05 - val_loss: 3.2959e-04\n",
      "Epoch 298/390\n",
      "26/26 [==============================] - 0s 2ms/step - loss: 1.0210e-04 - val_loss: 3.4222e-04\n",
      "Epoch 299/390\n",
      "26/26 [==============================] - 0s 2ms/step - loss: 9.7773e-05 - val_loss: 3.0075e-04\n",
      "Epoch 300/390\n",
      "26/26 [==============================] - 0s 2ms/step - loss: 9.7688e-05 - val_loss: 3.5716e-04\n",
      "Epoch 301/390\n",
      "26/26 [==============================] - 0s 2ms/step - loss: 9.6994e-05 - val_loss: 3.1236e-04\n",
      "Epoch 302/390\n",
      "26/26 [==============================] - 0s 2ms/step - loss: 9.6261e-05 - val_loss: 3.1287e-04\n",
      "Epoch 303/390\n",
      "26/26 [==============================] - 0s 2ms/step - loss: 9.6700e-05 - val_loss: 2.6196e-04\n",
      "Epoch 304/390\n",
      "26/26 [==============================] - 0s 2ms/step - loss: 9.5824e-05 - val_loss: 3.4806e-04\n",
      "Epoch 305/390\n",
      "26/26 [==============================] - 0s 2ms/step - loss: 9.7053e-05 - val_loss: 4.1589e-04\n",
      "Epoch 306/390\n",
      "26/26 [==============================] - 0s 2ms/step - loss: 9.8043e-05 - val_loss: 2.9327e-04\n",
      "Epoch 307/390\n",
      "26/26 [==============================] - 0s 2ms/step - loss: 9.6809e-05 - val_loss: 3.6493e-04\n",
      "Epoch 308/390\n",
      "26/26 [==============================] - 0s 2ms/step - loss: 9.4600e-05 - val_loss: 3.2564e-04\n",
      "Epoch 309/390\n",
      "26/26 [==============================] - 0s 2ms/step - loss: 9.1809e-05 - val_loss: 3.2446e-04\n",
      "Epoch 310/390\n"
     ]
    },
    {
     "name": "stdout",
     "output_type": "stream",
     "text": [
      "26/26 [==============================] - 0s 2ms/step - loss: 9.1307e-05 - val_loss: 3.4244e-04\n",
      "Epoch 311/390\n",
      "26/26 [==============================] - 0s 2ms/step - loss: 9.2115e-05 - val_loss: 3.1915e-04\n",
      "Epoch 312/390\n",
      "26/26 [==============================] - 0s 2ms/step - loss: 9.0713e-05 - val_loss: 3.0886e-04\n",
      "Epoch 313/390\n",
      "26/26 [==============================] - 0s 2ms/step - loss: 8.9879e-05 - val_loss: 3.0625e-04\n",
      "Epoch 314/390\n",
      "26/26 [==============================] - 0s 2ms/step - loss: 9.0996e-05 - val_loss: 3.3293e-04\n",
      "Epoch 315/390\n",
      "26/26 [==============================] - 0s 2ms/step - loss: 8.9378e-05 - val_loss: 2.5387e-04\n",
      "Epoch 316/390\n",
      "26/26 [==============================] - 0s 2ms/step - loss: 8.8852e-05 - val_loss: 2.6600e-04\n",
      "Epoch 317/390\n",
      "26/26 [==============================] - 0s 2ms/step - loss: 8.8905e-05 - val_loss: 3.6524e-04\n",
      "Epoch 318/390\n",
      "26/26 [==============================] - 0s 2ms/step - loss: 8.8120e-05 - val_loss: 3.1642e-04\n",
      "Epoch 319/390\n",
      "26/26 [==============================] - 0s 2ms/step - loss: 8.6258e-05 - val_loss: 3.3970e-04\n",
      "Epoch 320/390\n",
      "26/26 [==============================] - 0s 2ms/step - loss: 8.6306e-05 - val_loss: 3.2942e-04\n",
      "Epoch 321/390\n",
      "26/26 [==============================] - 0s 2ms/step - loss: 8.6099e-05 - val_loss: 3.4080e-04\n",
      "Epoch 322/390\n",
      "26/26 [==============================] - 0s 2ms/step - loss: 8.6020e-05 - val_loss: 3.5758e-04\n",
      "Epoch 323/390\n",
      "26/26 [==============================] - 0s 2ms/step - loss: 8.4781e-05 - val_loss: 3.7069e-04\n",
      "Epoch 324/390\n",
      "26/26 [==============================] - 0s 2ms/step - loss: 8.5258e-05 - val_loss: 3.3698e-04\n",
      "Epoch 325/390\n",
      "26/26 [==============================] - 0s 2ms/step - loss: 8.3360e-05 - val_loss: 3.0034e-04\n",
      "Epoch 326/390\n",
      "26/26 [==============================] - 0s 2ms/step - loss: 8.3244e-05 - val_loss: 3.2452e-04\n",
      "Epoch 327/390\n",
      "26/26 [==============================] - 0s 2ms/step - loss: 8.2310e-05 - val_loss: 3.4788e-04\n",
      "Epoch 328/390\n",
      "26/26 [==============================] - 0s 2ms/step - loss: 8.4283e-05 - val_loss: 2.7098e-04\n",
      "Epoch 329/390\n",
      "26/26 [==============================] - 0s 2ms/step - loss: 8.1358e-05 - val_loss: 3.5514e-04\n",
      "Epoch 330/390\n",
      "26/26 [==============================] - 0s 2ms/step - loss: 8.1159e-05 - val_loss: 2.8647e-04\n",
      "Epoch 331/390\n",
      "26/26 [==============================] - 0s 2ms/step - loss: 7.9757e-05 - val_loss: 3.6274e-04\n",
      "Epoch 332/390\n",
      "26/26 [==============================] - 0s 2ms/step - loss: 8.1290e-05 - val_loss: 2.7567e-04\n",
      "Epoch 333/390\n",
      "26/26 [==============================] - 0s 2ms/step - loss: 8.5048e-05 - val_loss: 2.8386e-04\n",
      "Epoch 334/390\n",
      "26/26 [==============================] - 0s 2ms/step - loss: 7.9080e-05 - val_loss: 3.1265e-04\n",
      "Epoch 335/390\n",
      "26/26 [==============================] - 0s 2ms/step - loss: 7.8169e-05 - val_loss: 3.1606e-04\n",
      "Epoch 336/390\n",
      "26/26 [==============================] - 0s 2ms/step - loss: 7.7229e-05 - val_loss: 2.6045e-04\n",
      "Epoch 337/390\n",
      "26/26 [==============================] - 0s 2ms/step - loss: 8.0566e-05 - val_loss: 3.3466e-04\n",
      "Epoch 338/390\n",
      "26/26 [==============================] - 0s 2ms/step - loss: 7.7253e-05 - val_loss: 3.6319e-04\n",
      "Epoch 339/390\n",
      "26/26 [==============================] - 0s 2ms/step - loss: 7.6901e-05 - val_loss: 3.0332e-04\n",
      "Epoch 340/390\n",
      "26/26 [==============================] - 0s 2ms/step - loss: 7.7631e-05 - val_loss: 2.8707e-04\n",
      "Epoch 341/390\n",
      "26/26 [==============================] - 0s 2ms/step - loss: 7.6707e-05 - val_loss: 3.5461e-04\n",
      "Epoch 342/390\n",
      "26/26 [==============================] - 0s 2ms/step - loss: 7.5880e-05 - val_loss: 3.2700e-04\n",
      "Epoch 343/390\n",
      "26/26 [==============================] - 0s 2ms/step - loss: 7.6598e-05 - val_loss: 3.5603e-04\n",
      "Epoch 344/390\n",
      "26/26 [==============================] - 0s 2ms/step - loss: 7.6383e-05 - val_loss: 3.5482e-04\n",
      "Epoch 345/390\n",
      "26/26 [==============================] - 0s 2ms/step - loss: 7.5302e-05 - val_loss: 2.8263e-04\n",
      "Epoch 346/390\n",
      "26/26 [==============================] - 0s 2ms/step - loss: 7.3669e-05 - val_loss: 2.8472e-04\n",
      "Epoch 347/390\n",
      "26/26 [==============================] - 0s 2ms/step - loss: 7.2903e-05 - val_loss: 3.1510e-04\n",
      "Epoch 348/390\n",
      "26/26 [==============================] - 0s 2ms/step - loss: 7.4871e-05 - val_loss: 3.1884e-04\n",
      "Epoch 349/390\n",
      "26/26 [==============================] - 0s 2ms/step - loss: 7.3329e-05 - val_loss: 3.1275e-04\n",
      "Epoch 350/390\n",
      "26/26 [==============================] - 0s 2ms/step - loss: 7.2555e-05 - val_loss: 3.0253e-04\n",
      "Epoch 351/390\n",
      "26/26 [==============================] - 0s 2ms/step - loss: 7.2789e-05 - val_loss: 3.4929e-04\n",
      "Epoch 352/390\n",
      "26/26 [==============================] - 0s 2ms/step - loss: 7.4184e-05 - val_loss: 2.9481e-04\n",
      "Epoch 353/390\n",
      "26/26 [==============================] - 0s 2ms/step - loss: 7.1775e-05 - val_loss: 3.0656e-04\n",
      "Epoch 354/390\n",
      "26/26 [==============================] - 0s 2ms/step - loss: 7.0013e-05 - val_loss: 3.1118e-04\n",
      "Epoch 355/390\n",
      "26/26 [==============================] - 0s 2ms/step - loss: 7.1311e-05 - val_loss: 3.0371e-04\n",
      "Epoch 356/390\n",
      "26/26 [==============================] - 0s 2ms/step - loss: 6.9465e-05 - val_loss: 3.2260e-04\n",
      "Epoch 357/390\n",
      "26/26 [==============================] - 0s 2ms/step - loss: 6.9745e-05 - val_loss: 3.3049e-04\n",
      "Epoch 358/390\n",
      "26/26 [==============================] - 0s 2ms/step - loss: 6.8535e-05 - val_loss: 3.0914e-04\n",
      "Epoch 359/390\n",
      "26/26 [==============================] - 0s 2ms/step - loss: 6.9456e-05 - val_loss: 3.1171e-04\n",
      "Epoch 360/390\n",
      "26/26 [==============================] - 0s 2ms/step - loss: 7.4110e-05 - val_loss: 2.3944e-04\n",
      "Epoch 361/390\n",
      "26/26 [==============================] - 0s 2ms/step - loss: 7.0775e-05 - val_loss: 3.2521e-04\n",
      "Epoch 362/390\n",
      "26/26 [==============================] - 0s 2ms/step - loss: 6.6938e-05 - val_loss: 3.1230e-04\n",
      "Epoch 363/390\n",
      "26/26 [==============================] - 0s 2ms/step - loss: 6.8142e-05 - val_loss: 2.8576e-04\n",
      "Epoch 364/390\n",
      "26/26 [==============================] - 0s 2ms/step - loss: 6.6826e-05 - val_loss: 3.0550e-04\n",
      "Epoch 365/390\n",
      "26/26 [==============================] - 0s 2ms/step - loss: 6.6554e-05 - val_loss: 2.5777e-04\n",
      "Epoch 366/390\n",
      "26/26 [==============================] - 0s 2ms/step - loss: 6.6715e-05 - val_loss: 3.3906e-04\n",
      "Epoch 367/390\n",
      "26/26 [==============================] - 0s 2ms/step - loss: 6.5718e-05 - val_loss: 3.0080e-04\n",
      "Epoch 368/390\n",
      "26/26 [==============================] - 0s 2ms/step - loss: 6.4457e-05 - val_loss: 3.1665e-04\n",
      "Epoch 369/390\n",
      "26/26 [==============================] - 0s 2ms/step - loss: 6.5913e-05 - val_loss: 2.8457e-04\n",
      "Epoch 370/390\n",
      "26/26 [==============================] - 0s 2ms/step - loss: 6.5976e-05 - val_loss: 2.9492e-04\n",
      "Epoch 371/390\n",
      "26/26 [==============================] - 0s 2ms/step - loss: 6.3437e-05 - val_loss: 3.3106e-04\n",
      "Epoch 372/390\n",
      "26/26 [==============================] - 0s 2ms/step - loss: 6.6171e-05 - val_loss: 3.7594e-04\n",
      "Epoch 373/390\n",
      "26/26 [==============================] - 0s 2ms/step - loss: 6.6270e-05 - val_loss: 3.4647e-04\n",
      "Epoch 374/390\n",
      "26/26 [==============================] - 0s 2ms/step - loss: 6.3190e-05 - val_loss: 2.2923e-04\n",
      "Epoch 375/390\n",
      "26/26 [==============================] - 0s 2ms/step - loss: 6.6123e-05 - val_loss: 3.2568e-04\n",
      "Epoch 376/390\n",
      "26/26 [==============================] - 0s 2ms/step - loss: 6.3288e-05 - val_loss: 3.3768e-04\n",
      "Epoch 377/390\n",
      "26/26 [==============================] - 0s 2ms/step - loss: 6.1773e-05 - val_loss: 3.0226e-04\n",
      "Epoch 378/390\n",
      "26/26 [==============================] - 0s 2ms/step - loss: 6.2081e-05 - val_loss: 3.6647e-04\n",
      "Epoch 379/390\n",
      "26/26 [==============================] - 0s 2ms/step - loss: 6.2255e-05 - val_loss: 3.5171e-04\n",
      "Epoch 380/390\n",
      "26/26 [==============================] - 0s 2ms/step - loss: 6.1662e-05 - val_loss: 3.1023e-04\n",
      "Epoch 381/390\n",
      "26/26 [==============================] - 0s 2ms/step - loss: 6.1157e-05 - val_loss: 2.9531e-04\n",
      "Epoch 382/390\n",
      "26/26 [==============================] - 0s 2ms/step - loss: 6.2912e-05 - val_loss: 2.5647e-04\n",
      "Epoch 383/390\n",
      "26/26 [==============================] - 0s 2ms/step - loss: 6.1194e-05 - val_loss: 3.1508e-04\n",
      "Epoch 384/390\n",
      "26/26 [==============================] - 0s 2ms/step - loss: 5.9912e-05 - val_loss: 3.1830e-04\n",
      "Epoch 385/390\n"
     ]
    },
    {
     "name": "stdout",
     "output_type": "stream",
     "text": [
      "26/26 [==============================] - 0s 2ms/step - loss: 5.9763e-05 - val_loss: 3.3117e-04\n",
      "Epoch 386/390\n",
      "26/26 [==============================] - 0s 2ms/step - loss: 5.9946e-05 - val_loss: 2.9956e-04\n",
      "Epoch 387/390\n",
      "26/26 [==============================] - 0s 2ms/step - loss: 5.9579e-05 - val_loss: 2.9702e-04\n",
      "Epoch 388/390\n",
      "26/26 [==============================] - 0s 2ms/step - loss: 5.9038e-05 - val_loss: 2.8760e-04\n",
      "Epoch 389/390\n",
      "26/26 [==============================] - 0s 2ms/step - loss: 5.8405e-05 - val_loss: 3.0943e-04\n",
      "Epoch 390/390\n",
      "26/26 [==============================] - 0s 2ms/step - loss: 5.8900e-05 - val_loss: 3.0051e-04\n"
     ]
    },
    {
     "data": {
      "text/plain": [
       "<tensorflow.python.keras.callbacks.History at 0x7fe481e2f370>"
      ]
     },
     "execution_count": 59,
     "metadata": {},
     "output_type": "execute_result"
    }
   ],
   "source": [
    "model.fit(x=X_train,y=y_train,validation_data=(X_test,y_test),epochs=390)"
   ]
  },
  {
   "cell_type": "code",
   "execution_count": 60,
   "metadata": {},
   "outputs": [
    {
     "name": "stderr",
     "output_type": "stream",
     "text": [
      "/opt/anaconda3/lib/python3.8/site-packages/tensorflow/python/keras/engine/sequential.py:455: UserWarning: `model.predict_classes()` is deprecated and will be removed after 2021-01-01. Please use instead:* `np.argmax(model.predict(x), axis=-1)`,   if your model does multi-class classification   (e.g. if it uses a `softmax` last-layer activation).* `(model.predict(x) > 0.5).astype(\"int32\")`,   if your model does binary classification   (e.g. if it uses a `sigmoid` last-layer activation).\n",
      "  warnings.warn('`model.predict_classes()` is deprecated and '\n"
     ]
    }
   ],
   "source": [
    "pred=model.predict_classes(X_test)"
   ]
  },
  {
   "cell_type": "code",
   "execution_count": 61,
   "metadata": {},
   "outputs": [
    {
     "name": "stdout",
     "output_type": "stream",
     "text": [
      "-1.569754857202382\n",
      "8.197472499815483\n"
     ]
    }
   ],
   "source": [
    "r2_6=r2_score(pred,y_test)\n",
    "print(r2_6)\n",
    "a=mean_squared_error(pred,y_test)\n",
    "rmse_6=np.sqrt(a)\n",
    "print(rmse_6)\n"
   ]
  },
  {
   "cell_type": "code",
   "execution_count": 62,
   "metadata": {},
   "outputs": [
    {
     "data": {
      "text/plain": [
       "1235"
      ]
     },
     "execution_count": 62,
     "metadata": {},
     "output_type": "execute_result"
    }
   ],
   "source": [
    "len(df)"
   ]
  },
  {
   "cell_type": "code",
   "execution_count": 63,
   "metadata": {},
   "outputs": [],
   "source": [
    "from sklearn.svm import SVR\n",
    "model= SVR(kernel='rbf',C=9.0,gamma='auto',degree=10,max_iter=-1.1)"
   ]
  },
  {
   "cell_type": "code",
   "execution_count": 64,
   "metadata": {},
   "outputs": [
    {
     "name": "stderr",
     "output_type": "stream",
     "text": [
      "/opt/anaconda3/lib/python3.8/site-packages/sklearn/utils/validation.py:63: DataConversionWarning: A column-vector y was passed when a 1d array was expected. Please change the shape of y to (n_samples, ), for example using ravel().\n",
      "  return f(*args, **kwargs)\n"
     ]
    },
    {
     "data": {
      "text/plain": [
       "SVR(C=9.0, degree=10, gamma='auto', max_iter=-1.1)"
      ]
     },
     "execution_count": 64,
     "metadata": {},
     "output_type": "execute_result"
    }
   ],
   "source": [
    "model.fit(X_train,y_train)"
   ]
  },
  {
   "cell_type": "code",
   "execution_count": 65,
   "metadata": {},
   "outputs": [],
   "source": [
    "pred=model.predict(X_test)"
   ]
  },
  {
   "cell_type": "code",
   "execution_count": 66,
   "metadata": {},
   "outputs": [
    {
     "data": {
      "text/plain": [
       "0.9651974620860908"
      ]
     },
     "execution_count": 66,
     "metadata": {},
     "output_type": "execute_result"
    }
   ],
   "source": [
    "r2_score(pred,y_test)"
   ]
  },
  {
   "cell_type": "code",
   "execution_count": 67,
   "metadata": {},
   "outputs": [
    {
     "name": "stdout",
     "output_type": "stream",
     "text": [
      "0.9651974620860908\n",
      "0.03782229202952284\n"
     ]
    }
   ],
   "source": [
    "r2_7=r2_score(pred,y_test)\n",
    "print(r2_7)\n",
    "a=mean_squared_error(pred,y_test)\n",
    "rmse_7=np.sqrt(a)\n",
    "print(rmse_7)\n"
   ]
  },
  {
   "cell_type": "code",
   "execution_count": 68,
   "metadata": {},
   "outputs": [
    {
     "data": {
      "text/plain": [
       "0.9540377756734637"
      ]
     },
     "execution_count": 68,
     "metadata": {},
     "output_type": "execute_result"
    }
   ],
   "source": [
    "r2_2"
   ]
  },
  {
   "cell_type": "code",
   "execution_count": 69,
   "metadata": {},
   "outputs": [
    {
     "data": {
      "text/plain": [
       "<BarContainer object of 7 artists>"
      ]
     },
     "execution_count": 69,
     "metadata": {},
     "output_type": "execute_result"
    },
    {
     "data": {
      "image/png": "[encoded data removed]",
      "text/plain": [
       "<Figure size 1008x576 with 1 Axes>"
      ]
     },
     "metadata": {
      "needs_background": "light"
     },
     "output_type": "display_data"
    }
   ],
   "source": [
    "plt.figure(figsize=(14,8))\n",
    "plt.title('Comparing Coefficient of Determination')\n",
    "plt.bar(['Random Forest','Bagging Regressor','AdaBoost','KNN','Gradient Boosting','Neural Network','SVM'],[r2_1,r2_2, r2_3,r2_4,r2_5,r2_6,r2_7],color=['blue','maroon'])"
   ]
  },
  {
   "cell_type": "code",
   "execution_count": 70,
   "metadata": {
    "scrolled": true
   },
   "outputs": [
    {
     "data": {
      "text/plain": [
       "<BarContainer object of 7 artists>"
      ]
     },
     "execution_count": 70,
     "metadata": {},
     "output_type": "execute_result"
    },
    {
     "data": {
      "image/png": "[encoded data removed]",
      "text/plain": [
       "<Figure size 1008x576 with 1 Axes>"
      ]
     },
     "metadata": {
      "needs_background": "light"
     },
     "output_type": "display_data"
    }
   ],
   "source": [
    "plt.figure(figsize=(14,8))\n",
    "plt.title('Comparing Coefficient of Determination')\n",
    "plt.bar(['Random Forest','Bagging Regressor','AdaBoost','KNN','Gradient Boosting','Neural Network','SVM'],[rmse_1,rmse_2, rmse_3,rmse_4,rmse_5,rmse_6,rmse_7],color=['blue','maroon'])"
   ]
  },
  {
   "cell_type": "code",
   "execution_count": 71,
   "metadata": {},
   "outputs": [
    {
     "data": {
      "text/plain": [
       "array([0.51455106])"
      ]
     },
     "execution_count": 71,
     "metadata": {},
     "output_type": "execute_result"
    }
   ],
   "source": [
    "model.predict([['224', '323', '235', '789','5432', '6666666']])"
   ]
  },
  {
   "cell_type": "code",
   "execution_count": null,
   "metadata": {},
   "outputs": [],
   "source": []
  }
 ],
 "metadata": {
  "kernelspec": {
   "display_name": "Python 3",
   "language": "python",
   "name": "python3"
  },
  "language_info": {
   "codemirror_mode": {
    "name": "ipython",
    "version": 3
   },
   "file_extension": ".py",
   "mimetype": "text/x-python",
   "name": "python",
   "nbconvert_exporter": "python",
   "pygments_lexer": "ipython3",
   "version": "3.8.5"
  }
 },
 "nbformat": 4,
 "nbformat_minor": 5
}
